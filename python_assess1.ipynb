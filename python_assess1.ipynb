{
 "cells": [
  {
   "cell_type": "markdown",
   "id": "88846b72-75c9-44bd-845e-12352ce4850a",
   "metadata": {},
   "source": [
    "### Creating different data types in python\n"
   ]
  },
  {
   "cell_type": "code",
   "execution_count": 103,
   "id": "c09e5f87-523a-4f3e-ab0c-a178dc2779e8",
   "metadata": {},
   "outputs": [
    {
     "name": "stdout",
     "output_type": "stream",
     "text": [
      "('John', 25, 7.5, ['J', 'o', 'h', 'n'], ('J', 'O', 'H', 'N'), {'J', 'N', 'H', 'O'}, {'John': [25, 7.5]})\n",
      "<class 'str'> <class 'int'> <class 'float'> <class 'list'> <class 'tuple'> <class 'set'> <class 'dict'>\n"
     ]
    }
   ],
   "source": [
    "class Students():\n",
    "    def __init__(self):\n",
    "        self.name = str('John')\n",
    "        self.age = int(25)\n",
    "        self.marks = float(7.5)\n",
    "        self.list = list(self.name)#['J','O','H','N'] \n",
    "        self.tuple = ('J','O','H','N') #tuple(self.name)\n",
    "        self.set = {'J','O','H','N'} #set(self.name)\n",
    "        self.dict = {self.name:[self.age,self.marks]}\n",
    "p1=Students()\n",
    "print((p1.name,p1.age,p1.marks,p1.list,p1.tuple,p1.set,p1.dict))\n",
    "print(type(p1.name),type(p1.age),type(p1.marks),type(p1.list),type(p1.tuple),type(p1.set),type(p1.dict))"
   ]
  },
  {
   "cell_type": "markdown",
   "id": "46489285-bdf3-4cac-9df9-a131a3581ba1",
   "metadata": {},
   "source": [
    "### Creating different operators in python"
   ]
  },
  {
   "cell_type": "code",
   "execution_count": 71,
   "id": "4ccd5df7-d363-48e8-b79a-18bd7b92cf73",
   "metadata": {},
   "outputs": [
    {
     "name": "stdout",
     "output_type": "stream",
     "text": [
      "12 8 20 5.0 0 100 5\n",
      "12\n",
      "10\n",
      "20\n",
      "10.0\n",
      "0.0\n",
      "False True True False True False\n",
      "False\n",
      "True\n",
      "True\n",
      "False True\n",
      "True False\n",
      "2 10 8\n"
     ]
    }
   ],
   "source": [
    "a=10\n",
    "b=2\n",
    "print(a+b,a-b,a*b,a/b,a%b,a**b,a//b) #arit/hmetic operators\n",
    "a+=b  #assignment operators\n",
    "print(a)\n",
    "a-=b\n",
    "print(a)\n",
    "a*=b\n",
    "print(a)\n",
    "a/=b\n",
    "print(a)\n",
    "a%=b\n",
    "print(a) \n",
    "a=10 \n",
    "print(a==b,a!=b,a>b,a<b,a>=b,a<=b) #comparison operators\n",
    "print(a==b and a>b) #logical operators\n",
    "print(a==b or a>b)\n",
    "print(not(a==b))\n",
    "print(a is b, a is not b) #Identity operators\n",
    "c = 'Python'\n",
    "d = 'Python Programming'\n",
    "print(c in d, c not in d) #Membership operators\n",
    "print(a & b,a|b,a^b) #bitwise perators\n",
    "\n"
   ]
  },
  {
   "cell_type": "markdown",
   "id": "d385022e-1fa1-43a1-ae87-6a03054b59f5",
   "metadata": {},
   "source": [
    "### Magic Methods"
   ]
  },
  {
   "cell_type": "code",
   "execution_count": 74,
   "id": "12c4ef31-4af3-4e6f-b998-e0ac43fb8231",
   "metadata": {},
   "outputs": [
    {
     "data": {
      "text/plain": [
       "['__abs__',\n",
       " '__add__',\n",
       " '__and__',\n",
       " '__bool__',\n",
       " '__ceil__',\n",
       " '__class__',\n",
       " '__delattr__',\n",
       " '__dir__',\n",
       " '__divmod__',\n",
       " '__doc__',\n",
       " '__eq__',\n",
       " '__float__',\n",
       " '__floor__',\n",
       " '__floordiv__',\n",
       " '__format__',\n",
       " '__ge__',\n",
       " '__getattribute__',\n",
       " '__getnewargs__',\n",
       " '__gt__',\n",
       " '__hash__',\n",
       " '__index__',\n",
       " '__init__',\n",
       " '__init_subclass__',\n",
       " '__int__',\n",
       " '__invert__',\n",
       " '__le__',\n",
       " '__lshift__',\n",
       " '__lt__',\n",
       " '__mod__',\n",
       " '__mul__',\n",
       " '__ne__',\n",
       " '__neg__',\n",
       " '__new__',\n",
       " '__or__',\n",
       " '__pos__',\n",
       " '__pow__',\n",
       " '__radd__',\n",
       " '__rand__',\n",
       " '__rdivmod__',\n",
       " '__reduce__',\n",
       " '__reduce_ex__',\n",
       " '__repr__',\n",
       " '__rfloordiv__',\n",
       " '__rlshift__',\n",
       " '__rmod__',\n",
       " '__rmul__',\n",
       " '__ror__',\n",
       " '__round__',\n",
       " '__rpow__',\n",
       " '__rrshift__',\n",
       " '__rshift__',\n",
       " '__rsub__',\n",
       " '__rtruediv__',\n",
       " '__rxor__',\n",
       " '__setattr__',\n",
       " '__sizeof__',\n",
       " '__str__',\n",
       " '__sub__',\n",
       " '__subclasshook__',\n",
       " '__truediv__',\n",
       " '__trunc__',\n",
       " '__xor__',\n",
       " 'as_integer_ratio',\n",
       " 'bit_length',\n",
       " 'conjugate',\n",
       " 'denominator',\n",
       " 'from_bytes',\n",
       " 'imag',\n",
       " 'numerator',\n",
       " 'real',\n",
       " 'to_bytes']"
      ]
     },
     "execution_count": 74,
     "metadata": {},
     "output_type": "execute_result"
    }
   ],
   "source": [
    "dir(a)"
   ]
  },
  {
   "cell_type": "code",
   "execution_count": 94,
   "id": "c09f81eb-5183-47a8-ab94-826152057b63",
   "metadata": {},
   "outputs": [
    {
     "name": "stdout",
     "output_type": "stream",
     "text": [
      "5\n",
      "3\n",
      "False\n",
      "1\n",
      "5.0\n",
      "<class 'int'>\n",
      "125\n",
      "5\n",
      "True\n"
     ]
    }
   ],
   "source": [
    "print(a)\n",
    "print(a.__sub__(2))\n",
    "print(a.__eq__(-6))\n",
    "print(a.__mod__(2))\n",
    "print(a.__float__())\n",
    "print(type(a))\n",
    "print(a.__pow__(3))\n",
    "print(a.__str__())\n",
    "print(isinstance(a,int))"
   ]
  },
  {
   "cell_type": "markdown",
   "id": "bd5eb3dc-7cec-461e-b388-0752bb2ace1c",
   "metadata": {},
   "source": [
    "### Different ways to format the string"
   ]
  },
  {
   "cell_type": "code",
   "execution_count": 106,
   "id": "0234481c-4377-4339-bc1d-312a2447ef03",
   "metadata": {},
   "outputs": [
    {
     "name": "stdout",
     "output_type": "stream",
     "text": [
      "I love  python\n",
      "I love python\n",
      "I love pythonversion 3.1\n",
      "I love pythonversion 3.10\n",
      "I love python version 3.10\n",
      "I love python version 3.1\n",
      "I love python version 3.10\n",
      "I love python version 3.10\n",
      "I love 3.10 version python\n",
      "I love python version 3.10\n",
      "I love python version 3.10\n",
      "I love python version 3.10\n",
      "I love python\n"
     ]
    }
   ],
   "source": [
    "print(\"I love\",\" python\")\n",
    "print(\"I love\" + \" python\")\n",
    "print(\"I love\" + \" python\" + \"version\",3.10)\n",
    "print(\"I love\" + \" python\" + \"version %.2f\"%3.10)\n",
    "print(\"I love %s version %.2f\"%(\"python\",3.10))\n",
    "# using format positional argument\n",
    "print(\"I love {} version {}\".format(\"python\",3.10))\n",
    "print(\"I love {} version {}\".format(\"python\",\"3.10\"))\n",
    "print(\"I love {} version {:.2f}\".format(\"python\",3.10))\n",
    "print(\"I love {1} version {0}\".format(\"python\",\"3.10\"))\n",
    "# using format keyword argument\n",
    "print(\"I love {pl} version {version:.2f}\".format(pl=\"python\",version=3.10))\n",
    "#using f-string literal\n",
    "info={\"pl\":\"python\",\"version\":3.10}\n",
    "print(f\"I love {info.get('pl')} version {info.get('version'):.2f}\")\n",
    "print(F'I love {info[\"pl\"]} version {info[\"version\"]:.2f}')\n",
    "batch = 'ML'\n",
    "print(f'I love {\"javascript\" if batch == \"FS\" else \"python\"}')"
   ]
  },
  {
   "cell_type": "markdown",
   "id": "81cf4a1a-2aeb-40dc-970c-f61a27e68bd8",
   "metadata": {},
   "source": [
    "### Indexing in python"
   ]
  },
  {
   "cell_type": "code",
   "execution_count": 160,
   "id": "97aba145-55e9-4e3a-9455-8c8716088a2e",
   "metadata": {},
   "outputs": [
    {
     "name": "stdout",
     "output_type": "stream",
     "text": [
      "['Finland', 'Sweden', 'Denmark', 'Netherlands', 'Germany', 'Norway', 'Iceland']\n",
      "1\n",
      "['Sweden', 'Denmark', 'Netherlands', 'Germany', 'Norway', 'Iceland']\n",
      "['Finland', 'Sweden', 'Denmark', 'Netherlands', 'Germany', 'Norway']\n",
      "Iceland\n",
      "['Germany', 'Norway', 'Iceland']\n",
      "['Sweden', 'Netherlands', 'Norway']\n",
      "['Finland', 'Iceland']\n",
      "['Netherlands', 'Germany', 'Norway']\n",
      "['Iceland', 'Norway', 'Germany', 'Netherlands', 'Denmark', 'Sweden', 'Finland']\n",
      "['Iceland', 'Germany', 'Denmark', 'Finland']\n",
      "['Sweden', 'Netherlands', 'Norway']\n",
      "[]\n",
      "['Germany', 'Netherlands', 'Denmark']\n",
      "[(0, 'Finland'), (1, 'Sweden'), (2, 'Denmark'), (3, 'Netherlands'), (4, 'Germany'), (5, 'Norway'), (6, 'Iceland')]\n"
     ]
    }
   ],
   "source": [
    "Countries = [\"Finland\",\"Sweden\",\"Denmark\",\"Netherlands\",\"Germany\",\"Norway\",\"Iceland\"]\n",
    "print(Countries)\n",
    "print(Countries.index(\"Sweden\"))  \n",
    "print(Countries[1:])           \n",
    "print(Countries[:6])\n",
    "print(Countries[-1])\n",
    "print(Countries[-3:])\n",
    "print(Countries[1::2])\n",
    "print(Countries[::len(Countries)-1]) \n",
    "print(Countries[-4:-1])\n",
    "print(Countries[::-1])\n",
    "print(Countries[::-2])\n",
    "print(Countries[1:100:2])\n",
    "print(Countries[len(Countries)-1:0:2])\n",
    "print(Countries[4:1:-1])\n",
    "y= enumerate(Countries)\n",
    "print(list(y))"
   ]
  },
  {
   "cell_type": "markdown",
   "id": "4162ae9b-4028-414e-b9d6-c74bbec0a821",
   "metadata": {},
   "source": [
    "### Dictionaries"
   ]
  },
  {
   "cell_type": "code",
   "execution_count": 207,
   "id": "42bfe72a-4c17-4f41-96e6-16afb2fd82bf",
   "metadata": {},
   "outputs": [
    {
     "name": "stdout",
     "output_type": "stream",
     "text": [
      "{'a': 1, 'b': 2, 'c': 3, 'd': 4}\n",
      "{'a': 1, 'b': 2, 'c': 3, 'd': 4, 'e': 5, 'f': 6, 'g': 7, 'h': 8}\n",
      "{'Duy': ['Python', 'Database', 'ML'], 'Laxmi': ['Python', 'Database', 'ML'], 'Antonio': ['Python', 'Database', 'ML'], 'Maria': ['Python', 'Database', 'ML']}\n",
      "{'Duy': ['Python', 'Database', 'ML'], 'Laxmi': ['Python', 'Database', 'ML'], 'Antonio': ['JavaScript', 'Database', 'NodeJS'], 'Maria': ['Python', 'Database', 'ML']}\n",
      "{'Duy': ['Python', 'Database', 'ML'], 'Laxmi': ['Python', 'Database', 'ML'], 'Antonio': ['JavaScript', 'Database', 'NodeJS', 'ReactJs'], 'Maria': ['Python', 'Database', 'ML']}\n",
      "{'Duy': ['Python', 'Database', 'ML'], 'Laxmi': ['Python', 'Database', 'ML'], 'Antonio': ['JavaScript', 'Database', 'NodeJS', 'Vuejs'], 'Maria': ['Python', 'Database', 'ML']}\n",
      "{'Duy': ['Python', 'Database', 'ML'], 'Laxmi': ['Python', 'Database', 'ML'], 'Maria': ['Python', 'Database', 'ML']}\n"
     ]
    }
   ],
   "source": [
    "list1=[\"a\",\"b\",\"c\",\"d\"]\n",
    "list2=[1,2,3,4] \n",
    "Dict=zip(list1,list2)\n",
    "print(dict(Dict))\n",
    "dict1={'a': 1, 'b': 2, 'c': 3, 'd': 4}\n",
    "dict2={'e':5,'f':6,'g':7,'h':8}\n",
    "dict1.update(dict2)\n",
    "print(dict1)\n",
    "Students=[\"Duy\", \"Laxmi\",\"Antonio\",\"Maria\"]\n",
    "Course=[\"Python\",\"Database\",\"ML\"] \n",
    "new={Students[i]: Course for i in range(len(Students))}\n",
    "print(new)\n",
    "new.update({\"Antonio\":[\"JavaScript\",\"Database\",\"NodeJS\"]})\n",
    "print(new)\n",
    "new[\"Antonio\"].append(\"ReactJs\")\n",
    "print(new)\n",
    "new[\"Antonio\"][3] = \"Vuejs\"\n",
    "print(new)\n",
    "new.pop(\"Antonio\")\n",
    "print(new)"
   ]
  },
  {
   "cell_type": "code",
   "execution_count": null,
   "id": "e412b24f-db3a-4854-a1c4-4493516fe487",
   "metadata": {},
   "outputs": [],
   "source": []
  }
 ],
 "metadata": {
  "kernelspec": {
   "display_name": "Python 3 (ipykernel)",
   "language": "python",
   "name": "python3"
  },
  "language_info": {
   "codemirror_mode": {
    "name": "ipython",
    "version": 3
   },
   "file_extension": ".py",
   "mimetype": "text/x-python",
   "name": "python",
   "nbconvert_exporter": "python",
   "pygments_lexer": "ipython3",
   "version": "3.9.13"
  }
 },
 "nbformat": 4,
 "nbformat_minor": 5
}
